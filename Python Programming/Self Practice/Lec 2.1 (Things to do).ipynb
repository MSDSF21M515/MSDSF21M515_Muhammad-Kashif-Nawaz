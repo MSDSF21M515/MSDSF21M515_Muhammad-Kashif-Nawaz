{
 "cells": [
  {
   "cell_type": "markdown",
   "id": "b0714f83",
   "metadata": {},
   "source": [
    "In this notebook, We will try to implement the following algorithms in Python\n",
    "\n",
    "- ### Searching:\n",
    "    - Linear \n",
    "    - Binary search\n",
    "\n",
    "- ### Sorting:\n",
    "    - Bubble\n",
    "    - Selection\n",
    "    - Insertion\n",
    "    - Merge sort\n",
    "\n",
    "- ### Fibonacci series generator"
   ]
  },
  {
   "cell_type": "markdown",
   "id": "aadb7d46",
   "metadata": {},
   "source": [
    "### Searching"
   ]
  },
  {
   "cell_type": "markdown",
   "id": "49e005f1",
   "metadata": {},
   "source": [
    "- #### Linear Search\n",
    "We are expecting a list and a searching element as arguments of the function "
   ]
  },
  {
   "cell_type": "code",
   "execution_count": 1,
   "id": "b57bad6a",
   "metadata": {},
   "outputs": [],
   "source": [
    "def linear_search(ls, var):\n",
    "    for element in ls:\n",
    "        if element == var:\n",
    "            print(\"We found : \", element)\n",
    "            return element\n",
    "    print(\"Not found !\")\n",
    "    \n",
    "    return None"
   ]
  },
  {
   "cell_type": "code",
   "execution_count": 2,
   "id": "0d2ed7b2",
   "metadata": {},
   "outputs": [
    {
     "name": "stdout",
     "output_type": "stream",
     "text": [
      "We found :  9\n"
     ]
    }
   ],
   "source": [
    "my_ls = [i for i in range(1,10)]\n",
    "my_ele = linear_search(my_ls, 9)"
   ]
  },
  {
   "cell_type": "markdown",
   "id": "50361189",
   "metadata": {},
   "source": [
    "- #### Binary Search\n",
    "We are expecting a list and a searching element as arguments of the function "
   ]
  },
  {
   "cell_type": "code",
   "execution_count": 3,
   "id": "3719c359",
   "metadata": {},
   "outputs": [],
   "source": [
    "def binary_search(ls, var):\n",
    "    maxx = len(ls) - 1\n",
    "    minn = 0\n",
    "    mid = 0\n",
    "    for i in range(maxx):\n",
    "        mid = (minn + maxx) // 2\n",
    "        if ls[mid] < var:\n",
    "            minn = mid + 1\n",
    "        elif ls[mid] > var:\n",
    "            maxx = mid - 1\n",
    "        else:\n",
    "            return mid\n",
    "    return -1"
   ]
  },
  {
   "cell_type": "code",
   "execution_count": 4,
   "id": "61839824",
   "metadata": {},
   "outputs": [
    {
     "name": "stdout",
     "output_type": "stream",
     "text": [
      "Element found at index:  0\n"
     ]
    }
   ],
   "source": [
    "my_ls = [i for i in range(1,10)]\n",
    "my_ele = binary_search(my_ls, 1)\n",
    "print(\"Element found at index: \",my_ele)"
   ]
  },
  {
   "cell_type": "markdown",
   "id": "34237d8a",
   "metadata": {},
   "source": [
    "### Sorting"
   ]
  },
  {
   "cell_type": "markdown",
   "id": "e377fc33",
   "metadata": {},
   "source": [
    "- #### Bubble Sort"
   ]
  },
  {
   "cell_type": "code",
   "execution_count": 13,
   "id": "665fd7ba",
   "metadata": {},
   "outputs": [],
   "source": [
    "def bubble_sort(ls):\n",
    "    for i in range(len(ls)-1):\n",
    "        for j in range(0,len(ls)-i-1):\n",
    "            if ls[j] > ls[j+1]:\n",
    "                ls[j] = ls[j+1]\n",
    "                ls[j+1] = ls[j]\n",
    "    return ls\n"
   ]
  },
  {
   "cell_type": "code",
   "execution_count": 14,
   "id": "3111f50e",
   "metadata": {},
   "outputs": [
    {
     "name": "stdout",
     "output_type": "stream",
     "text": [
      "[78, 96, 79, 25, 7, 51, 71, 85, 3, 23] 1379366861632\n",
      "Sorted List:  [3, 3, 3, 3, 3, 3, 3, 3, 3, 23] 1379366861632\n"
     ]
    }
   ],
   "source": [
    "import random\n",
    "\n",
    "bub_list = [random.randint(1,100) for i in range(10)]\n",
    "print(bub_list,id(bub_list))\n",
    "bub_list = bubble_sort(bub_list)\n",
    "print(\"Sorted List: \",bub_list,id(bub_list))\n"
   ]
  },
  {
   "cell_type": "markdown",
   "id": "196f2970",
   "metadata": {},
   "source": [
    "- #### Insertion Sort"
   ]
  },
  {
   "cell_type": "code",
   "execution_count": 21,
   "id": "70cc8bbf",
   "metadata": {},
   "outputs": [],
   "source": [
    "def insert_sort(ls):\n",
    "    for i in range(1,len(ls)):\n",
    "        key = ls[i]\n",
    "        j = i-1\n",
    "        while j>=0 and key < ls[j]:\n",
    "            ls[j+1] = ls[j]\n",
    "            j = j-1\n",
    "        ls[j+1] = key\n",
    "        \n",
    "    return ls"
   ]
  },
  {
   "cell_type": "code",
   "execution_count": 22,
   "id": "4a1229c1",
   "metadata": {},
   "outputs": [
    {
     "name": "stdout",
     "output_type": "stream",
     "text": [
      "[19, 94, 61, 13, 56, 93, 18, 50, 54, 5] 1379366858944\n",
      "Sorted List:  [5, 13, 18, 19, 50, 54, 56, 61, 93, 94] 1379366858944\n"
     ]
    }
   ],
   "source": [
    "insert_list = [random.randint(1,100) for i in range(10)]\n",
    "print(insert_list,id(insert_list))\n",
    "insert_list = insert_sort(insert_list)\n",
    "print(\"Sorted List: \",insert_list,id(insert_list))"
   ]
  },
  {
   "cell_type": "code",
   "execution_count": null,
   "id": "6d3427ff",
   "metadata": {},
   "outputs": [],
   "source": []
  },
  {
   "cell_type": "code",
   "execution_count": null,
   "id": "e57db7db",
   "metadata": {},
   "outputs": [],
   "source": []
  }
 ],
 "metadata": {
  "kernelspec": {
   "display_name": "Python 3 (ipykernel)",
   "language": "python",
   "name": "python3"
  },
  "language_info": {
   "codemirror_mode": {
    "name": "ipython",
    "version": 3
   },
   "file_extension": ".py",
   "mimetype": "text/x-python",
   "name": "python",
   "nbconvert_exporter": "python",
   "pygments_lexer": "ipython3",
   "version": "3.9.4"
  }
 },
 "nbformat": 4,
 "nbformat_minor": 5
}
